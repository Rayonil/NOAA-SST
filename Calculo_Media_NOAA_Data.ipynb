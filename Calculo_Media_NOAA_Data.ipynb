{
 "cells": [
  {
   "cell_type": "markdown",
   "id": "d5452003-c4a0-4284-8309-4704c8b4d927",
   "metadata": {},
   "source": [
    "# CALCULAR A MÉDIA MENSAL DOS DADOS DA NOAA\n",
    "\n",
    "#### O script cálcula a média mensal dos dados NOAA de:\n",
    "        \n",
    " - Temperatura da Superfície do Mar (sst - Sigla em Inglês)\n",
    " - Anômalia da TSM (anom)\n",
    " - Desvio padrão do erro estimado de TSM (err)\n",
    " - Concentração de gelo marinho (ice)"
   ]
  },
  {
   "cell_type": "code",
   "execution_count": 1,
   "id": "451ecc81-49c1-4656-a19f-61714bcc6923",
   "metadata": {},
   "outputs": [],
   "source": [
    "import os\n",
    "import xarray as xr\n",
    "import numpy as np"
   ]
  },
  {
   "cell_type": "code",
   "execution_count": 3,
   "id": "6418e5a0-1807-4f14-b4f7-3e07d788b426",
   "metadata": {},
   "outputs": [],
   "source": [
    "# Diretório onde estão os dados organizados como NOAA_SST/ano/mês/\n",
    "input_dir = \"NOAA_SST\"\n",
    "# Diretório para salvar os arquivos mensais\n",
    "output_dir = \"NOAA_SST_MENSAL\"\n",
    "os.makedirs(output_dir, exist_ok=True)"
   ]
  },
  {
   "cell_type": "code",
   "execution_count": 7,
   "id": "a2e7366f-655a-422d-9a8a-2c711a335318",
   "metadata": {},
   "outputs": [
    {
     "name": "stdout",
     "output_type": "stream",
     "text": [
      "✅ Média mensal salva: NOAA_SST_MENSAL\\NOAA_202001.nc\n",
      "✅ Média mensal salva: NOAA_SST_MENSAL\\NOAA_202504.nc\n"
     ]
    }
   ],
   "source": [
    "# Loop por cada ano e mês disponíveis\n",
    "for year in range(2000, 2026):\n",
    "    for month in range(1, 13):\n",
    "        # Limita até março de 2025\n",
    "        if year == 2025 and month > 4:\n",
    "            break\n",
    "\n",
    "        # Caminho do diretório com os arquivos diários\n",
    "        month_dir = os.path.join(input_dir, f\"{year:04d}\", f\"{month:02d}\")\n",
    "        if not os.path.exists(month_dir):\n",
    "            continue  # pula se o diretório não existe\n",
    "\n",
    "        # Lista de arquivos .nc do mês\n",
    "        arquivos_nc = sorted([f for f in os.listdir(month_dir) if f.endswith(\".nc\")])\n",
    "        if not arquivos_nc:\n",
    "            continue  # pula se não houver arquivos\n",
    "\n",
    "        # Lista para armazenar os datasets diários\n",
    "        datasets = []\n",
    "\n",
    "        for nome_arquivo in arquivos_nc:\n",
    "            caminho_arquivo = os.path.join(month_dir, nome_arquivo)\n",
    "            try:\n",
    "                ds = xr.open_dataset(caminho_arquivo)\n",
    "                datasets.append(ds)\n",
    "            except Exception as e:\n",
    "                print(f\"Erro ao abrir {caminho_arquivo}: {e}\")\n",
    "\n",
    "        # Concatena todos os arquivos do mês ao longo da dimensão 'time'\n",
    "        try:\n",
    "            ds_concat = xr.concat(datasets, dim='time')\n",
    "        except Exception as e:\n",
    "            print(f\"Erro ao concatenar os arquivos de {year}-{month:02d}: {e}\")\n",
    "            continue\n",
    "\n",
    "        # Calcula a média mensal para as variáveis desejadas\n",
    "        variaveis_media = ['anom', 'err', 'ice', 'sst']\n",
    "        media_mensal = ds_concat[variaveis_media].mean(dim='time', skipna=True)\n",
    "\n",
    "        # Extrai variáveis constantes (lon, lat, zlev, time)\n",
    "        constantes = {\n",
    "            'lat': ds_concat['lat'],\n",
    "            'lon': ds_concat['lon'],\n",
    "            'zlev': ds_concat['zlev']\n",
    "        }\n",
    "\n",
    "        # Cria a coordenada de tempo única para o mês (meio do mês)\n",
    "        tempo_mensal = np.datetime64(f\"{year:04d}-{month:02d}-15\")\n",
    "        constantes['time'] = xr.DataArray([tempo_mensal], dims='time')\n",
    "\n",
    "        # Adiciona a dimensão 'time' às médias\n",
    "        for var in media_mensal.data_vars:\n",
    "            media_mensal[var] = media_mensal[var].expand_dims('time')\n",
    "\n",
    "        # Junta as variáveis médias com as constantes\n",
    "        ds_mensal = xr.Dataset(\n",
    "            data_vars=media_mensal.data_vars,\n",
    "            coords={'time': constantes['time'],\n",
    "                    'lat': constantes['lat'],\n",
    "                    'lon': constantes['lon'],\n",
    "                    'zlev': constantes['zlev']\n",
    "                   }\n",
    "        )\n",
    "\n",
    "        # Nome do arquivo de saída\n",
    "        nome_saida = f\"NOAA_{year:04d}{month:02d}.nc\"\n",
    "        caminho_saida = os.path.join(output_dir, nome_saida)\n",
    "\n",
    "        # Salva o novo arquivo .nc com compressão\n",
    "        try:\n",
    "            ds_mensal.to_netcdf(caminho_saida, format='NETCDF4', encoding={var: {'zlib': True} for var in ds_mensal.data_vars})\n",
    "            print(f\"✅ Média mensal salva: {caminho_saida}\")\n",
    "        except Exception as e:\n",
    "            print(f\"Erro ao salvar {caminho_saida}: {e}\")"
   ]
  },
  {
   "cell_type": "code",
   "execution_count": null,
   "id": "644bc58a-4275-4411-89f6-6f310cb77a8a",
   "metadata": {},
   "outputs": [],
   "source": []
  }
 ],
 "metadata": {
  "kernelspec": {
   "display_name": "Python [conda env:base] *",
   "language": "python",
   "name": "conda-base-py"
  },
  "language_info": {
   "codemirror_mode": {
    "name": "ipython",
    "version": 3
   },
   "file_extension": ".py",
   "mimetype": "text/x-python",
   "name": "python",
   "nbconvert_exporter": "python",
   "pygments_lexer": "ipython3",
   "version": "3.12.7"
  }
 },
 "nbformat": 4,
 "nbformat_minor": 5
}
